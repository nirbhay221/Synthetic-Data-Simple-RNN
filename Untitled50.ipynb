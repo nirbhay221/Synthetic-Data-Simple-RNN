{
  "nbformat": 4,
  "nbformat_minor": 0,
  "metadata": {
    "colab": {
      "name": "Untitled50.ipynb",
      "provenance": [],
      "collapsed_sections": []
    },
    "kernelspec": {
      "name": "python3",
      "display_name": "Python 3"
    }
  },
  "cells": [
    {
      "cell_type": "code",
      "metadata": {
        "id": "9ZHiIAZe9guy"
      },
      "source": [
        "import tensorflow as tf \n",
        "import numpy as np\n",
        "import matplotlib.pyplot as plt"
      ],
      "execution_count": null,
      "outputs": []
    },
    {
      "cell_type": "code",
      "metadata": {
        "id": "Ju9eZUl__vU7"
      },
      "source": [
        "def plot_series(time,series,format='-',start=0,end=None):\n",
        "  plt.plot(time[start:end],series[start:end],format)\n",
        "  plt.xlabel('Time')\n",
        "  plt.ylabel('Values')\n",
        "  plt.grid('True')"
      ],
      "execution_count": null,
      "outputs": []
    },
    {
      "cell_type": "code",
      "metadata": {
        "id": "j7u52cQGAF_o"
      },
      "source": [
        "def trend(time,slope=0):\n",
        "  return time*slope"
      ],
      "execution_count": null,
      "outputs": []
    },
    {
      "cell_type": "code",
      "metadata": {
        "id": "QrE6a4bCANyp"
      },
      "source": [
        "def seasonal_pattern(season_time):\n",
        "  return np.where(season_time<0.4,\n",
        "                  np.cos(2*np.pi*season_time),\n",
        "                  1/np.exp(3*season_time))"
      ],
      "execution_count": null,
      "outputs": []
    },
    {
      "cell_type": "code",
      "metadata": {
        "id": "ZH_uQk5GAkcG"
      },
      "source": [
        "def seasonality(time,period,amplitude=1,phase=0):\n",
        "  season_time =  (((time+phase)%period)/period)\n",
        "  return amplitude*seasonal_pattern(season_time)"
      ],
      "execution_count": null,
      "outputs": []
    },
    {
      "cell_type": "code",
      "metadata": {
        "id": "7lh99O9FAzdS"
      },
      "source": [
        "def noise(time,noise_level=1,seed=None):\n",
        "  rnd= np.random.RandomState(seed)\n",
        "  return rnd.randn(len(time))*noise_level"
      ],
      "execution_count": null,
      "outputs": []
    },
    {
      "cell_type": "code",
      "metadata": {
        "id": "0tqNraI0BVk4"
      },
      "source": [
        "time = np.arange(4 * 365 + 1, dtype=\"float32\")\n",
        "baseline = 10\n",
        "series = trend(time, 0.1)  \n",
        "baseline = 10\n",
        "amplitude = 40\n",
        "slope = 0.05\n",
        "noise_level = 5\n",
        "series = baseline+trend(time,slope)+seasonality(time,period =365,amplitude=amplitude)\n",
        "series += noise(time,noise_level,seed=42)\n",
        "split_time = 1000\n",
        "time_train = time[:split_time]\n",
        "time_valid = time[split_time:]\n",
        "x_train = series[:split_time]\n",
        "x_valid = series[split_time:]\n",
        "\n",
        "window_size = 20\n",
        "batch_size = 32\n",
        "shuffle_buffer_size = 1000"
      ],
      "execution_count": null,
      "outputs": []
    },
    {
      "cell_type": "code",
      "metadata": {
        "id": "1xf4LUrdBwls"
      },
      "source": [
        "def windowed_dataset(series,window_size,batch_size,shuffle_buffer):\n",
        "  dataset= tf.data.Dataset.from_tensor_slices(series)\n",
        "  dataset = dataset.window(window_size+1,shift =1,drop_remainder= True)\n",
        "  dataset = dataset.flat_map(lambda window: window.batch(window_size+1))\n",
        "  dataset = dataset.shuffle(shuffle_buffer).map(lambda window: (window[:-1],window[-1]))\n",
        "  dataset = dataset.batch(batch_size).prefetch(1)\n",
        "  return dataset"
      ],
      "execution_count": null,
      "outputs": []
    },
    {
      "cell_type": "code",
      "metadata": {
        "id": "pwC8uxE-DcoI"
      },
      "source": [
        "train_dataset = windowed_dataset(series,window_size,batch_size=128,shuffle_buffer =shuffle_buffer_size)"
      ],
      "execution_count": null,
      "outputs": []
    },
    {
      "cell_type": "code",
      "metadata": {
        "id": "FisR1y-8Dk5n"
      },
      "source": [
        "tf.keras.backend.clear_session()\n",
        "tf.random.set_seed(51)\n",
        "np.random.seed(51)\n",
        "\n",
        "train_set = windowed_dataset(x_train, window_size, batch_size=128, shuffle_buffer=shuffle_buffer_size)\n",
        "\n",
        "model = tf.keras.models.Sequential([\n",
        "  tf.keras.layers.Lambda(lambda x: tf.expand_dims(x, axis=-1),\n",
        "                      input_shape=[None]),\n",
        "  tf.keras.layers.SimpleRNN(40, return_sequences=True),\n",
        "  tf.keras.layers.SimpleRNN(40),\n",
        "  tf.keras.layers.Dense(1),\n",
        "  tf.keras.layers.Lambda(lambda x: x * 100.0)\n",
        "])"
      ],
      "execution_count": null,
      "outputs": []
    },
    {
      "cell_type": "code",
      "metadata": {
        "id": "cEMtXCF-FyA0",
        "outputId": "8e0c9225-51e5-4086-b59a-8cb973148599",
        "colab": {
          "base_uri": "https://localhost:8080/"
        }
      },
      "source": [
        "\n",
        "\n",
        "lr_schedule = tf.keras.callbacks.LearningRateScheduler(\n",
        "    lambda epoch: 1e-8 * 10**(epoch / 20))\n",
        "optimizer = tf.keras.optimizers.SGD(lr=1e-8, momentum=0.9)\n",
        "model.compile(loss=tf.keras.losses.Huber(),\n",
        "              optimizer=optimizer,\n",
        "              metrics=[\"mae\"])\n",
        "history = model.fit(train_set, epochs=100, callbacks=[lr_schedule])"
      ],
      "execution_count": null,
      "outputs": [
        {
          "output_type": "stream",
          "text": [
            "Epoch 1/100\n",
            "8/8 [==============================] - 0s 13ms/step - loss: 195.5726 - mae: 196.0726\n",
            "Epoch 2/100\n",
            "8/8 [==============================] - 0s 10ms/step - loss: 194.7820 - mae: 195.2820\n",
            "Epoch 3/100\n",
            "8/8 [==============================] - 0s 10ms/step - loss: 193.5109 - mae: 194.0109\n",
            "Epoch 4/100\n",
            "8/8 [==============================] - 0s 10ms/step - loss: 191.9081 - mae: 192.4081\n",
            "Epoch 5/100\n",
            "8/8 [==============================] - 0s 9ms/step - loss: 190.0235 - mae: 190.5235\n",
            "Epoch 6/100\n",
            "8/8 [==============================] - 0s 10ms/step - loss: 187.8582 - mae: 188.3582\n",
            "Epoch 7/100\n",
            "8/8 [==============================] - 0s 10ms/step - loss: 185.3787 - mae: 185.8787\n",
            "Epoch 8/100\n",
            "8/8 [==============================] - 0s 10ms/step - loss: 182.5483 - mae: 183.0483\n",
            "Epoch 9/100\n",
            "8/8 [==============================] - 0s 10ms/step - loss: 179.3126 - mae: 179.8126\n",
            "Epoch 10/100\n",
            "8/8 [==============================] - 0s 10ms/step - loss: 175.6017 - mae: 176.1017\n",
            "Epoch 11/100\n",
            "8/8 [==============================] - 0s 10ms/step - loss: 171.3243 - mae: 171.8243\n",
            "Epoch 12/100\n",
            "8/8 [==============================] - 0s 10ms/step - loss: 166.3521 - mae: 166.8521\n",
            "Epoch 13/100\n",
            "8/8 [==============================] - 0s 9ms/step - loss: 160.5517 - mae: 161.0517\n",
            "Epoch 14/100\n",
            "8/8 [==============================] - 0s 9ms/step - loss: 153.6378 - mae: 154.1378\n",
            "Epoch 15/100\n",
            "8/8 [==============================] - 0s 10ms/step - loss: 145.3261 - mae: 145.8261\n",
            "Epoch 16/100\n",
            "8/8 [==============================] - 0s 10ms/step - loss: 135.0351 - mae: 135.5351\n",
            "Epoch 17/100\n",
            "8/8 [==============================] - 0s 10ms/step - loss: 121.9920 - mae: 122.4920\n",
            "Epoch 18/100\n",
            "8/8 [==============================] - 0s 10ms/step - loss: 105.3426 - mae: 105.8426\n",
            "Epoch 19/100\n",
            "8/8 [==============================] - 0s 10ms/step - loss: 84.1254 - mae: 84.6254\n",
            "Epoch 20/100\n",
            "8/8 [==============================] - 0s 9ms/step - loss: 57.2710 - mae: 57.7710\n",
            "Epoch 21/100\n",
            "8/8 [==============================] - 0s 9ms/step - loss: 32.0323 - mae: 32.5289\n",
            "Epoch 22/100\n",
            "8/8 [==============================] - 0s 9ms/step - loss: 24.3013 - mae: 24.7973\n",
            "Epoch 23/100\n",
            "8/8 [==============================] - 0s 10ms/step - loss: 23.3490 - mae: 23.8461\n",
            "Epoch 24/100\n",
            "8/8 [==============================] - 0s 9ms/step - loss: 21.1135 - mae: 21.6101\n",
            "Epoch 25/100\n",
            "8/8 [==============================] - 0s 11ms/step - loss: 17.1272 - mae: 17.6220\n",
            "Epoch 26/100\n",
            "8/8 [==============================] - 0s 9ms/step - loss: 13.8473 - mae: 14.3365\n",
            "Epoch 27/100\n",
            "8/8 [==============================] - 0s 10ms/step - loss: 10.7749 - mae: 11.2631\n",
            "Epoch 28/100\n",
            "8/8 [==============================] - 0s 11ms/step - loss: 8.7659 - mae: 9.2524\n",
            "Epoch 29/100\n",
            "8/8 [==============================] - 0s 10ms/step - loss: 7.9783 - mae: 8.4596\n",
            "Epoch 30/100\n",
            "8/8 [==============================] - 0s 10ms/step - loss: 7.8824 - mae: 8.3651\n",
            "Epoch 31/100\n",
            "8/8 [==============================] - 0s 11ms/step - loss: 7.8424 - mae: 8.3231\n",
            "Epoch 32/100\n",
            "8/8 [==============================] - 0s 10ms/step - loss: 7.7293 - mae: 8.2061\n",
            "Epoch 33/100\n",
            "8/8 [==============================] - 0s 10ms/step - loss: 7.6896 - mae: 8.1682\n",
            "Epoch 34/100\n",
            "8/8 [==============================] - 0s 10ms/step - loss: 7.5853 - mae: 8.0646\n",
            "Epoch 35/100\n",
            "8/8 [==============================] - 0s 11ms/step - loss: 7.5172 - mae: 7.9977\n",
            "Epoch 36/100\n",
            "8/8 [==============================] - 0s 10ms/step - loss: 7.4070 - mae: 7.8849\n",
            "Epoch 37/100\n",
            "8/8 [==============================] - 0s 11ms/step - loss: 7.3480 - mae: 7.8265\n",
            "Epoch 38/100\n",
            "8/8 [==============================] - 0s 11ms/step - loss: 7.2938 - mae: 7.7685\n",
            "Epoch 39/100\n",
            "8/8 [==============================] - 0s 11ms/step - loss: 7.2491 - mae: 7.7239\n",
            "Epoch 40/100\n",
            "8/8 [==============================] - 0s 10ms/step - loss: 7.2260 - mae: 7.7028\n",
            "Epoch 41/100\n",
            "8/8 [==============================] - 0s 11ms/step - loss: 7.2844 - mae: 7.7629\n",
            "Epoch 42/100\n",
            "8/8 [==============================] - 0s 10ms/step - loss: 7.4529 - mae: 7.9378\n",
            "Epoch 43/100\n",
            "8/8 [==============================] - 0s 11ms/step - loss: 7.1585 - mae: 7.6390\n",
            "Epoch 44/100\n",
            "8/8 [==============================] - 0s 12ms/step - loss: 7.1436 - mae: 7.6195\n",
            "Epoch 45/100\n",
            "8/8 [==============================] - 0s 11ms/step - loss: 7.0569 - mae: 7.5397\n",
            "Epoch 46/100\n",
            "8/8 [==============================] - 0s 10ms/step - loss: 6.9329 - mae: 7.4142\n",
            "Epoch 47/100\n",
            "8/8 [==============================] - 0s 10ms/step - loss: 6.7453 - mae: 7.2217\n",
            "Epoch 48/100\n",
            "8/8 [==============================] - 0s 11ms/step - loss: 7.4523 - mae: 7.9375\n",
            "Epoch 49/100\n",
            "8/8 [==============================] - 0s 10ms/step - loss: 7.2814 - mae: 7.7655\n",
            "Epoch 50/100\n",
            "8/8 [==============================] - 0s 10ms/step - loss: 6.9146 - mae: 7.3947\n",
            "Epoch 51/100\n",
            "8/8 [==============================] - 0s 10ms/step - loss: 7.0549 - mae: 7.5381\n",
            "Epoch 52/100\n",
            "8/8 [==============================] - 0s 11ms/step - loss: 7.4218 - mae: 7.9044\n",
            "Epoch 53/100\n",
            "8/8 [==============================] - 0s 10ms/step - loss: 6.9011 - mae: 7.3845\n",
            "Epoch 54/100\n",
            "8/8 [==============================] - 0s 11ms/step - loss: 6.7600 - mae: 7.2387\n",
            "Epoch 55/100\n",
            "8/8 [==============================] - 0s 10ms/step - loss: 6.6565 - mae: 7.1352\n",
            "Epoch 56/100\n",
            "8/8 [==============================] - 0s 11ms/step - loss: 6.1894 - mae: 6.6657\n",
            "Epoch 57/100\n",
            "8/8 [==============================] - 0s 10ms/step - loss: 6.8613 - mae: 7.3413\n",
            "Epoch 58/100\n",
            "8/8 [==============================] - 0s 10ms/step - loss: 7.6439 - mae: 8.1289\n",
            "Epoch 59/100\n",
            "8/8 [==============================] - 0s 11ms/step - loss: 7.4355 - mae: 7.9232\n",
            "Epoch 60/100\n",
            "8/8 [==============================] - 0s 11ms/step - loss: 7.1180 - mae: 7.6021\n",
            "Epoch 61/100\n",
            "8/8 [==============================] - 0s 11ms/step - loss: 6.5446 - mae: 7.0291\n",
            "Epoch 62/100\n",
            "8/8 [==============================] - 0s 10ms/step - loss: 8.6818 - mae: 9.1692\n",
            "Epoch 63/100\n",
            "8/8 [==============================] - 0s 10ms/step - loss: 7.2914 - mae: 7.7792\n",
            "Epoch 64/100\n",
            "8/8 [==============================] - 0s 10ms/step - loss: 6.4782 - mae: 6.9644\n",
            "Epoch 65/100\n",
            "8/8 [==============================] - 0s 11ms/step - loss: 6.6052 - mae: 7.0900\n",
            "Epoch 66/100\n",
            "8/8 [==============================] - 0s 10ms/step - loss: 8.6873 - mae: 9.1772\n",
            "Epoch 67/100\n",
            "8/8 [==============================] - 0s 10ms/step - loss: 7.3687 - mae: 7.8522\n",
            "Epoch 68/100\n",
            "8/8 [==============================] - 0s 10ms/step - loss: 5.8037 - mae: 6.2825\n",
            "Epoch 69/100\n",
            "8/8 [==============================] - 0s 10ms/step - loss: 7.1136 - mae: 7.5967\n",
            "Epoch 70/100\n",
            "8/8 [==============================] - 0s 10ms/step - loss: 14.5646 - mae: 15.0591\n",
            "Epoch 71/100\n",
            "8/8 [==============================] - 0s 11ms/step - loss: 12.2519 - mae: 12.7449\n",
            "Epoch 72/100\n",
            "8/8 [==============================] - 0s 10ms/step - loss: 9.1278 - mae: 9.6167\n",
            "Epoch 73/100\n",
            "8/8 [==============================] - 0s 11ms/step - loss: 15.3273 - mae: 15.8214\n",
            "Epoch 74/100\n",
            "8/8 [==============================] - 0s 11ms/step - loss: 16.0371 - mae: 16.5327\n",
            "Epoch 75/100\n",
            "8/8 [==============================] - 0s 10ms/step - loss: 12.5683 - mae: 13.0615\n",
            "Epoch 76/100\n",
            "8/8 [==============================] - 0s 10ms/step - loss: 14.0105 - mae: 14.5047\n",
            "Epoch 77/100\n",
            "8/8 [==============================] - 0s 12ms/step - loss: 10.1825 - mae: 10.6726\n",
            "Epoch 78/100\n",
            "8/8 [==============================] - 0s 10ms/step - loss: 16.4089 - mae: 16.9054\n",
            "Epoch 79/100\n",
            "8/8 [==============================] - 0s 10ms/step - loss: 19.7855 - mae: 20.2826\n",
            "Epoch 80/100\n",
            "8/8 [==============================] - 0s 11ms/step - loss: 15.5033 - mae: 15.9982\n",
            "Epoch 81/100\n",
            "8/8 [==============================] - 0s 10ms/step - loss: 13.5496 - mae: 14.0409\n",
            "Epoch 82/100\n",
            "8/8 [==============================] - 0s 10ms/step - loss: 14.2568 - mae: 14.7495\n",
            "Epoch 83/100\n",
            "8/8 [==============================] - 0s 11ms/step - loss: 12.7655 - mae: 13.2574\n",
            "Epoch 84/100\n",
            "8/8 [==============================] - 0s 11ms/step - loss: 23.3162 - mae: 23.8127\n",
            "Epoch 85/100\n",
            "8/8 [==============================] - 0s 10ms/step - loss: 21.3964 - mae: 21.8937\n",
            "Epoch 86/100\n",
            "8/8 [==============================] - 0s 10ms/step - loss: 17.5697 - mae: 18.0642\n",
            "Epoch 87/100\n",
            "8/8 [==============================] - 0s 10ms/step - loss: 15.3135 - mae: 15.8075\n",
            "Epoch 88/100\n",
            "8/8 [==============================] - 0s 10ms/step - loss: 27.3367 - mae: 27.8340\n",
            "Epoch 89/100\n",
            "8/8 [==============================] - 0s 10ms/step - loss: 29.8878 - mae: 30.3854\n",
            "Epoch 90/100\n",
            "8/8 [==============================] - 0s 10ms/step - loss: 19.6541 - mae: 20.1505\n",
            "Epoch 91/100\n",
            "8/8 [==============================] - 0s 10ms/step - loss: 18.1192 - mae: 18.6130\n",
            "Epoch 92/100\n",
            "8/8 [==============================] - 0s 11ms/step - loss: 21.7713 - mae: 22.2650\n",
            "Epoch 93/100\n",
            "8/8 [==============================] - 0s 10ms/step - loss: 24.2429 - mae: 24.7391\n",
            "Epoch 94/100\n",
            "8/8 [==============================] - 0s 10ms/step - loss: 25.3685 - mae: 25.8677\n",
            "Epoch 95/100\n",
            "8/8 [==============================] - 0s 10ms/step - loss: 48.9552 - mae: 49.4531\n",
            "Epoch 96/100\n",
            "8/8 [==============================] - 0s 10ms/step - loss: 64.3094 - mae: 64.8066\n",
            "Epoch 97/100\n",
            "8/8 [==============================] - 0s 11ms/step - loss: 66.0127 - mae: 66.5120\n",
            "Epoch 98/100\n",
            "8/8 [==============================] - 0s 10ms/step - loss: 76.9739 - mae: 77.4736\n",
            "Epoch 99/100\n",
            "8/8 [==============================] - 0s 11ms/step - loss: 107.3507 - mae: 107.8507\n",
            "Epoch 100/100\n",
            "8/8 [==============================] - 0s 11ms/step - loss: 136.3591 - mae: 136.8590\n"
          ],
          "name": "stdout"
        }
      ]
    },
    {
      "cell_type": "code",
      "metadata": {
        "id": "Ohu8I0C6JPQQ",
        "outputId": "17d34877-05fc-43d0-d016-7d3c8485d824",
        "colab": {
          "base_uri": "https://localhost:8080/",
          "height": 290
        }
      },
      "source": [
        "plt.semilogx(history.history[\"lr\"], history.history[\"loss\"])\n",
        "plt.axis([1e-8, 1e-4, 0, 30])"
      ],
      "execution_count": null,
      "outputs": [
        {
          "output_type": "execute_result",
          "data": {
            "text/plain": [
              "(1e-08, 0.0001, 0.0, 30.0)"
            ]
          },
          "metadata": {
            "tags": []
          },
          "execution_count": 34
        },
        {
          "output_type": "display_data",
          "data": {
            "image/png": "[encoded data removed]",
            "text/plain": [
              "<Figure size 432x288 with 1 Axes>"
            ]
          },
          "metadata": {
            "tags": [],
            "needs_background": "light"
          }
        }
      ]
    },
    {
      "cell_type": "code",
      "metadata": {
        "id": "wzuiLdgGJ32V"
      },
      "source": [
        "tf.keras.backend.clear_session()\n",
        "tf.random.set_seed(51)\n",
        "np.random.seed(51)"
      ],
      "execution_count": null,
      "outputs": []
    },
    {
      "cell_type": "code",
      "metadata": {
        "id": "ZsUXCoYtMVAG"
      },
      "source": [
        "train_dataset = windowed_dataset(x_train,window_size,batch_size=128,shuffle_buffer= shuffle_buffer_size)"
      ],
      "execution_count": null,
      "outputs": []
    },
    {
      "cell_type": "code",
      "metadata": {
        "id": "qyaQ-D34MnaM"
      },
      "source": [
        "model = tf.keras.models.Sequential([\n",
        "                                    tf.keras.layers.Lambda(lambda x: tf.expand_dims(x,axis=-1),input_shape =[None]),\n",
        "                                    tf.keras.layers.SimpleRNN(40,return_sequences=True),\n",
        "                                    tf.keras.layers.SimpleRNN(40),\n",
        "                                    tf.keras.layers.Dense(1),\n",
        "                                    tf.keras.layers.Lambda(lambda x : x*100.0)\n",
        "])"
      ],
      "execution_count": null,
      "outputs": []
    },
    {
      "cell_type": "code",
      "metadata": {
        "id": "luMdnKZkOCae"
      },
      "source": [
        "model.compile(loss = tf.keras.losses.Huber(),optimizer = tf.keras.optimizers.SGD(lr = 1e-6),metrics = ['mae'])"
      ],
      "execution_count": null,
      "outputs": []
    },
    {
      "cell_type": "code",
      "metadata": {
        "id": "CJ8KhWCfOaDi",
        "outputId": "a7f5f7f1-e56b-4e6a-af29-73317f5d1db5",
        "colab": {
          "base_uri": "https://localhost:8080/"
        }
      },
      "source": [
        "model.fit(train_dataset,epochs= 60)"
      ],
      "execution_count": null,
      "outputs": [
        {
          "output_type": "stream",
          "text": [
            "Epoch 1/60\n",
            "8/8 [==============================] - 0s 11ms/step - loss: 4.3567 - mae: 4.8328\n",
            "Epoch 2/60\n",
            "8/8 [==============================] - 0s 10ms/step - loss: 4.3560 - mae: 4.8321\n",
            "Epoch 3/60\n",
            "8/8 [==============================] - 0s 10ms/step - loss: 4.3567 - mae: 4.8324\n",
            "Epoch 4/60\n",
            "8/8 [==============================] - 0s 10ms/step - loss: 4.3556 - mae: 4.8316\n",
            "Epoch 5/60\n",
            "8/8 [==============================] - 0s 10ms/step - loss: 4.3553 - mae: 4.8317\n",
            "Epoch 6/60\n",
            "8/8 [==============================] - 0s 12ms/step - loss: 4.3559 - mae: 4.8319\n",
            "Epoch 7/60\n",
            "8/8 [==============================] - 0s 10ms/step - loss: 4.3558 - mae: 4.8320\n",
            "Epoch 8/60\n",
            "8/8 [==============================] - 0s 9ms/step - loss: 4.3551 - mae: 4.8312\n",
            "Epoch 9/60\n",
            "8/8 [==============================] - 0s 9ms/step - loss: 4.3557 - mae: 4.8320\n",
            "Epoch 10/60\n",
            "8/8 [==============================] - 0s 10ms/step - loss: 4.3585 - mae: 4.8346\n",
            "Epoch 11/60\n",
            "8/8 [==============================] - 0s 10ms/step - loss: 4.3556 - mae: 4.8320\n",
            "Epoch 12/60\n",
            "8/8 [==============================] - 0s 11ms/step - loss: 4.3573 - mae: 4.8337\n",
            "Epoch 13/60\n",
            "8/8 [==============================] - 0s 11ms/step - loss: 4.3542 - mae: 4.8300\n",
            "Epoch 14/60\n",
            "8/8 [==============================] - 0s 9ms/step - loss: 4.3542 - mae: 4.8303\n",
            "Epoch 15/60\n",
            "8/8 [==============================] - 0s 10ms/step - loss: 4.3544 - mae: 4.8303\n",
            "Epoch 16/60\n",
            "8/8 [==============================] - 0s 10ms/step - loss: 4.3537 - mae: 4.8296\n",
            "Epoch 17/60\n",
            "8/8 [==============================] - 0s 11ms/step - loss: 4.3554 - mae: 4.8312\n",
            "Epoch 18/60\n",
            "8/8 [==============================] - 0s 10ms/step - loss: 4.3558 - mae: 4.8319\n",
            "Epoch 19/60\n",
            "8/8 [==============================] - 0s 10ms/step - loss: 4.3535 - mae: 4.8293\n",
            "Epoch 20/60\n",
            "8/8 [==============================] - 0s 10ms/step - loss: 4.3534 - mae: 4.8296\n",
            "Epoch 21/60\n",
            "8/8 [==============================] - 0s 9ms/step - loss: 4.3566 - mae: 4.8326\n",
            "Epoch 22/60\n",
            "8/8 [==============================] - 0s 11ms/step - loss: 4.3541 - mae: 4.8298\n",
            "Epoch 23/60\n",
            "8/8 [==============================] - 0s 12ms/step - loss: 4.3527 - mae: 4.8289\n",
            "Epoch 24/60\n",
            "8/8 [==============================] - 0s 12ms/step - loss: 4.3534 - mae: 4.8286\n",
            "Epoch 25/60\n",
            "8/8 [==============================] - 0s 9ms/step - loss: 4.3523 - mae: 4.8280\n",
            "Epoch 26/60\n",
            "8/8 [==============================] - 0s 9ms/step - loss: 4.3527 - mae: 4.8285\n",
            "Epoch 27/60\n",
            "8/8 [==============================] - 0s 10ms/step - loss: 4.3530 - mae: 4.8289\n",
            "Epoch 28/60\n",
            "8/8 [==============================] - 0s 9ms/step - loss: 4.3522 - mae: 4.8282\n",
            "Epoch 29/60\n",
            "8/8 [==============================] - 0s 10ms/step - loss: 4.3524 - mae: 4.8280\n",
            "Epoch 30/60\n",
            "8/8 [==============================] - 0s 10ms/step - loss: 4.3524 - mae: 4.8280\n",
            "Epoch 31/60\n",
            "8/8 [==============================] - 0s 10ms/step - loss: 4.3534 - mae: 4.8297\n",
            "Epoch 32/60\n",
            "8/8 [==============================] - 0s 9ms/step - loss: 4.3516 - mae: 4.8275\n",
            "Epoch 33/60\n",
            "8/8 [==============================] - 0s 10ms/step - loss: 4.3530 - mae: 4.8292\n",
            "Epoch 34/60\n",
            "8/8 [==============================] - 0s 10ms/step - loss: 4.3533 - mae: 4.8289\n",
            "Epoch 35/60\n",
            "8/8 [==============================] - 0s 11ms/step - loss: 4.3517 - mae: 4.8281\n",
            "Epoch 36/60\n",
            "8/8 [==============================] - 0s 10ms/step - loss: 4.3515 - mae: 4.8270\n",
            "Epoch 37/60\n",
            "8/8 [==============================] - 0s 10ms/step - loss: 4.3513 - mae: 4.8273\n",
            "Epoch 38/60\n",
            "8/8 [==============================] - 0s 11ms/step - loss: 4.3512 - mae: 4.8272\n",
            "Epoch 39/60\n",
            "8/8 [==============================] - 0s 10ms/step - loss: 4.3507 - mae: 4.8265\n",
            "Epoch 40/60\n",
            "8/8 [==============================] - 0s 10ms/step - loss: 4.3508 - mae: 4.8266\n",
            "Epoch 41/60\n",
            "8/8 [==============================] - 0s 11ms/step - loss: 4.3503 - mae: 4.8262\n",
            "Epoch 42/60\n",
            "8/8 [==============================] - 0s 9ms/step - loss: 4.3508 - mae: 4.8263\n",
            "Epoch 43/60\n",
            "8/8 [==============================] - 0s 9ms/step - loss: 4.3506 - mae: 4.8267\n",
            "Epoch 44/60\n",
            "8/8 [==============================] - 0s 10ms/step - loss: 4.3502 - mae: 4.8259\n",
            "Epoch 45/60\n",
            "8/8 [==============================] - 0s 10ms/step - loss: 4.3505 - mae: 4.8261\n",
            "Epoch 46/60\n",
            "8/8 [==============================] - 0s 10ms/step - loss: 4.3513 - mae: 4.8269\n",
            "Epoch 47/60\n",
            "8/8 [==============================] - 0s 11ms/step - loss: 4.3505 - mae: 4.8260\n",
            "Epoch 48/60\n",
            "8/8 [==============================] - 0s 10ms/step - loss: 4.3492 - mae: 4.8251\n",
            "Epoch 49/60\n",
            "8/8 [==============================] - 0s 9ms/step - loss: 4.3499 - mae: 4.8257\n",
            "Epoch 50/60\n",
            "8/8 [==============================] - 0s 10ms/step - loss: 4.3505 - mae: 4.8265\n",
            "Epoch 51/60\n",
            "8/8 [==============================] - 0s 10ms/step - loss: 4.3494 - mae: 4.8251\n",
            "Epoch 52/60\n",
            "8/8 [==============================] - 0s 10ms/step - loss: 4.3497 - mae: 4.8251\n",
            "Epoch 53/60\n",
            "8/8 [==============================] - 0s 12ms/step - loss: 4.3492 - mae: 4.8249\n",
            "Epoch 54/60\n",
            "8/8 [==============================] - 0s 10ms/step - loss: 4.3498 - mae: 4.8258\n",
            "Epoch 55/60\n",
            "8/8 [==============================] - 0s 11ms/step - loss: 4.3489 - mae: 4.8247\n",
            "Epoch 56/60\n",
            "8/8 [==============================] - 0s 11ms/step - loss: 4.3489 - mae: 4.8244\n",
            "Epoch 57/60\n",
            "8/8 [==============================] - 0s 10ms/step - loss: 4.3503 - mae: 4.8263\n",
            "Epoch 58/60\n",
            "8/8 [==============================] - 0s 11ms/step - loss: 4.3484 - mae: 4.8239\n",
            "Epoch 59/60\n",
            "8/8 [==============================] - 0s 10ms/step - loss: 4.3481 - mae: 4.8236\n",
            "Epoch 60/60\n",
            "8/8 [==============================] - 0s 10ms/step - loss: 4.3487 - mae: 4.8239\n"
          ],
          "name": "stdout"
        },
        {
          "output_type": "execute_result",
          "data": {
            "text/plain": [
              "<tensorflow.python.keras.callbacks.History at 0x7fc938cc1898>"
            ]
          },
          "metadata": {
            "tags": []
          },
          "execution_count": 49
        }
      ]
    },
    {
      "cell_type": "code",
      "metadata": {
        "id": "_QX5enh-Og91",
        "outputId": "7baac0f9-6995-470f-a625-3b50b941e28d",
        "colab": {
          "base_uri": "https://localhost:8080/",
          "height": 388
        }
      },
      "source": [
        "forecast = []\n",
        "for time in range(len(series)-window_size):\n",
        "  forecast.append(model.predict(series[time:time+window_size][np.newaxis]))\n",
        "forecast= forecast[split_time-window_size:]\n",
        "results = np.array(forecast)[:,0,0]\n",
        "plt.figure(figsize=(10,6))\n",
        "plot_series(time_valid,x_valid)\n",
        "plot_series(time_valid,results)"
      ],
      "execution_count": null,
      "outputs": [
        {
          "output_type": "display_data",
          "data": {
            "image/png": "[encoded data removed]",
            "text/plain": [
              "<Figure size 720x432 with 1 Axes>"
            ]
          },
          "metadata": {
            "tags": [],
            "needs_background": "light"
          }
        }
      ]
    },
    {
      "cell_type": "code",
      "metadata": {
        "id": "d1MousqhSJEe"
      },
      "source": [
        ""
      ],
      "execution_count": null,
      "outputs": []
    },
    {
      "cell_type": "code",
      "metadata": {
        "id": "oWLaN700RLzK",
        "outputId": "3d63d979-357f-42f1-916e-a265354a96f2",
        "colab": {
          "base_uri": "https://localhost:8080/"
        }
      },
      "source": [
        "tf.keras.metrics.mean_absolute_error(x_valid,results).numpy()"
      ],
      "execution_count": null,
      "outputs": [
        {
          "output_type": "execute_result",
          "data": {
            "text/plain": [
              "6.4104404"
            ]
          },
          "metadata": {
            "tags": []
          },
          "execution_count": 51
        }
      ]
    },
    {
      "cell_type": "code",
      "metadata": {
        "id": "Q_OSSr_XRn1l",
        "outputId": "707fc056-c95e-47f8-94e3-f8dcb4a4aef5",
        "colab": {
          "base_uri": "https://localhost:8080/",
          "height": 607
        }
      },
      "source": [
        "mae= history.history['mae']\n",
        "loss =history.history['loss']\n",
        "epochs = range(len(loss))\n",
        "\n",
        "plt.plot(epochs,mae,'r')\n",
        "plt.plot(epochs,loss,'b')\n",
        "plt.title('mae and loss')\n",
        "plt.xlabel('epochs')\n",
        "plt.ylabel('accuracy')\n",
        "plt.legend(['mae','loss'])\n",
        "plt.figure()\n",
        "epochs_zoom = epochs[10:]\n",
        "loss_zoom = loss[10:]\n",
        "mae_zoom = mae[10:]\n",
        "plt.plot(epochs_zoom,loss_zoom,'r')\n",
        "plt.plot(epochs_zoom,mae_zoom,'b')\n",
        "plt.xlabel('epochs')\n",
        "plt.ylabel('accuracy')\n",
        "plt.title('mae and loss')\n",
        "plt.legend(['mae','loss'])\n",
        "plt.figure()"
      ],
      "execution_count": null,
      "outputs": [
        {
          "output_type": "execute_result",
          "data": {
            "text/plain": [
              "<Figure size 432x288 with 0 Axes>"
            ]
          },
          "metadata": {
            "tags": []
          },
          "execution_count": 53
        },
        {
          "output_type": "display_data",
          "data": {
            "image/png": "[encoded data removed]",
            "text/plain": [
              "<Figure size 432x288 with 1 Axes>"
            ]
          },
          "metadata": {
            "tags": [],
            "needs_background": "light"
          }
        },
        {
          "output_type": "display_data",
          "data": {
            "image/png": "[encoded data removed]",
            "text/plain": [
              "<Figure size 432x288 with 1 Axes>"
            ]
          },
          "metadata": {
            "tags": [],
            "needs_background": "light"
          }
        },
        {
          "output_type": "display_data",
          "data": {
            "text/plain": [
              "<Figure size 432x288 with 0 Axes>"
            ]
          },
          "metadata": {
            "tags": []
          }
        }
      ]
    },
    {
      "cell_type": "code",
      "metadata": {
        "id": "eNRivr8rTJdP"
      },
      "source": [
        ""
      ],
      "execution_count": null,
      "outputs": []
    }
  ]
}